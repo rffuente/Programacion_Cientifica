{
 "cells": [
  {
   "cell_type": "markdown",
   "metadata": {},
   "source": [
    "<img src=https://upload.wikimedia.org/wikipedia/commons/thumb/4/47/Logo_UTFSM.png/250px-Logo_UTFSM.png style=\"float:right;height:90px\">\n",
    "<img src=http://carla2014.ccarla.org/img/logo_DI_UTFSM.jpg style=\"float:left;height:90px\">\n",
    "<center>\n",
    "    <h1> Scientific Programming in Python  </h1>\n",
    "    <h2> Actividad 4 </h2> \n",
    "</center>\n",
    "\n",
    "<center>    \n",
    "    Roberto Felipe Fuentes Zenteno - `roberto.fuentes@alumnos.usm.cl`.\n",
    "</center>"
   ]
  },
  {
   "cell_type": "code",
   "execution_count": 1,
   "metadata": {
    "collapsed": true
   },
   "outputs": [],
   "source": [
    "import numba\n",
    "import numpy as np\n",
    "import numexpr as ne\n",
    "import matplotlib.pyplot as plt\n",
    "\n",
    "#librerias extra y que se deben instalar\n",
    "from tabulate import tabulate\n",
    "from IPython.display import HTML"
   ]
  },
  {
   "cell_type": "markdown",
   "metadata": {
    "collapsed": true
   },
   "source": [
    "En esta actividad implementaremos una conocida métrica para medir disimilitud entre conjuntos: __La métrica de Hausdorff__. Esta corresponde a un métrica o distancia ocupada para medir cuán disímiles son dos subconjuntos dados. \n",
    "\n",
    "\n",
    "Esta tiene muchas aplicaciones, en particular para comparar el parecido entre imágenes. En el caso en donde los conjuntos son arreglos bidimensionales, la definición es la siguiente:\n",
    "\n",
    "Sean $X \\in \\mathbb{R}^{m \\times 3}$ e  $Y \\in \\mathbb{R}^{n \\times 3}$ dos matrices, la métrica/distancia de Hausdorff sobre sobre estas como:\n",
    "\n",
    "$$\n",
    "d_H(X,Y) = \\max \\left(\\ \\max_{i\\leq m} \\min_{j \\leq n} d(X[i],Y[j]), \\ \\max_{j\\leq n} \\min_{i \\leq m} d(Y[j],X[i]) \\ \\right)\n",
    "$$\n",
    "\n",
    "donde $d$ es la _distancia Euclideana_ clásica. ($X[i]$ indíca la i-ésima fila de X).\n",
    "\n",
    "__Ilustración unidimensional:__ Distancia entre funciones.\n",
    "<img src='data/hausdorff.png' style=\"width: 600px;\">"
   ]
  },
  {
   "cell_type": "markdown",
   "metadata": {},
   "source": [
    "1. Implemente la métrica de Hausdorff en Python clásico.\n",
    "2. Implemente la métrica de Hausdorff usando Numba (Forzando el modo __nopython__ y definiendo explícitamente las _signatures_ de las funciones).\n",
    "3. Cree `10` arreglos $X,Y$ aleatorios, con cantidad creciente de filas, y realice análsis de tiempos de ejecuciones de las funciones anteriores sobre estos arreglos.\n",
    "4. Concluya."
   ]
  },
  {
   "cell_type": "markdown",
   "metadata": {
    "collapsed": true
   },
   "source": [
    "## Desarrollo"
   ]
  },
  {
   "cell_type": "markdown",
   "metadata": {},
   "source": [
    "**Nota**: Si se desea ejecutar el laboratorio, favor de instalar previamente _tabular_ para poder mostrar las tablas con los tiempos."
   ]
  },
  {
   "cell_type": "markdown",
   "metadata": {
    "collapsed": true
   },
   "source": [
    "### Implementación python clásico:"
   ]
  },
  {
   "cell_type": "code",
   "execution_count": 2,
   "metadata": {
    "collapsed": true
   },
   "outputs": [],
   "source": [
    "def Hausdorff_python(X,Y):\n",
    "    lista_mayores_1 = []\n",
    "    lista_mayores_2 = []\n",
    "    for i in range(X.shape[0]):\n",
    "        lista_menores_1 = []\n",
    "        lista_menores_2 = []\n",
    "        for j in range(Y.shape[0]):\n",
    "            lista_menores_1.append(np.linalg.norm(X[i,:] - Y[j,:]))\n",
    "            lista_menores_2.append(np.linalg.norm(X[j,:] - Y[j,:]))\n",
    "        lista_mayores_1.append(min(lista_menores_1))\n",
    "        lista_mayores_2.append(min(lista_menores_2))\n",
    "        del lista_menores_1\n",
    "        del lista_menores_2\n",
    "    return max(max(lista_mayores_1), max(lista_mayores_2))"
   ]
  },
  {
   "cell_type": "markdown",
   "metadata": {},
   "source": [
    "### Implementación python con numba:"
   ]
  },
  {
   "cell_type": "code",
   "execution_count": 3,
   "metadata": {
    "collapsed": true
   },
   "outputs": [],
   "source": [
    "signatures = ['float32 (float32[:,:], float32[:,:])', 'float64 (float64[:,:], float64[:,:])']\n",
    "@numba.jit(signatures, nopython=True)\n",
    "def Hausdorff_numba(X,Y):\n",
    "    m1,n1 = X.shape\n",
    "    m2,n2 = X.shape\n",
    "    lista_mayores_1 = np.empty(m1)\n",
    "    lista_mayores_2 = np.empty(m1)\n",
    "    for i in range(m1):\n",
    "        lista_menores_1 = np.empty(m1)\n",
    "        lista_menores_2 = np.empty(m1)\n",
    "        for j in range(m2):\n",
    "            norma_1 = np.linalg.norm(X[i,:] - Y[j,:])\n",
    "            norma_2 = np.linalg.norm(X[j,:] - Y[i,:])\n",
    "            lista_menores_1[j] = norma_1\n",
    "            lista_menores_2[j] = norma_1\n",
    "        lista_mayores_1[i] = lista_menores_1.min()\n",
    "        lista_mayores_2[i] = lista_menores_2.min()\n",
    "    max_matrix_1 = lista_mayores_1.max()\n",
    "    max_matrix_2 = lista_mayores_2.max()\n",
    "    resultado = max(max_matrix_1,max_matrix_2)\n",
    "    return resultado"
   ]
  },
  {
   "cell_type": "code",
   "execution_count": 4,
   "metadata": {
    "collapsed": true
   },
   "outputs": [],
   "source": [
    "#Experimento 1\n",
    "X1 = np.random.random((10, 3))\n",
    "Y1 = np.random.random((5, 3))\n",
    "\n",
    "#Experimento 1\n",
    "X1 = np.random.random((10, 3))\n",
    "Y1 = np.random.random((5, 3))"
   ]
  },
  {
   "cell_type": "markdown",
   "metadata": {},
   "source": [
    "#### Celda con las matrices que se usaran para el experimento:"
   ]
  },
  {
   "cell_type": "code",
   "execution_count": null,
   "metadata": {
    "collapsed": true
   },
   "outputs": [],
   "source": [
    "#Experimento 1\n",
    "X1 = np.random.random((100,3))\n",
    "Y1 = np.random.random((50,3))\n",
    "\n",
    "#Experimento 2\n",
    "X2 = np.random.random((200,3))\n",
    "Y2 = np.random.random((100,3))\n",
    "\n",
    "#Experimento 3\n",
    "X3 = np.random.random((300,3))\n",
    "Y3 = np.random.random((150,3))\n",
    "\n",
    "#Experimento 4\n",
    "X4 = np.random.random((400,3))\n",
    "Y4 = np.random.random((200,3))\n",
    "\n",
    "#Experimento 5\n",
    "X5 = np.random.random((500,3))\n",
    "Y5 = np.random.random((250,3))\n",
    "\n",
    "#Experimento 6\n",
    "X6 = np.random.random((600,3))\n",
    "Y6 = np.random.random((300,3))\n",
    "\n",
    "#Experimento 7\n",
    "X7 = np.random.random((700,3))\n",
    "Y7 = np.random.random((350,3))\n",
    "\n",
    "#Experimento 8\n",
    "X8 = np.random.random((800,3))\n",
    "Y8 = np.random.random((400,3))\n",
    "\n",
    "#Experimento 9\n",
    "X9 = np.random.random((900,3))\n",
    "Y9 = np.random.random((450,3))\n",
    "\n",
    "#Experimento 10\n",
    "X10 = np.random.random((1000,3))\n",
    "Y10 = np.random.random((500,3))"
   ]
  },
  {
   "cell_type": "markdown",
   "metadata": {},
   "source": [
    "### Experimentos"
   ]
  },
  {
   "cell_type": "code",
   "execution_count": null,
   "metadata": {},
   "outputs": [
    {
     "name": "stdout",
     "output_type": "stream",
     "text": [
      "Experimento 1: \n",
      "\n",
      "54.5 ms ± 794 µs per loop (mean ± std. dev. of 7 runs, 10 loops each)\n",
      "8.49 ms ± 205 µs per loop (mean ± std. dev. of 7 runs, 100 loops each)\n",
      "\n",
      " Experimento 2: \n",
      "\n",
      "227 ms ± 7.08 ms per loop (mean ± std. dev. of 7 runs, 1 loop each)\n",
      "34.2 ms ± 519 µs per loop (mean ± std. dev. of 7 runs, 10 loops each)\n",
      "\n",
      " Experimento 3: \n",
      "\n",
      "561 ms ± 74.3 ms per loop (mean ± std. dev. of 7 runs, 1 loop each)\n",
      "79 ms ± 1.34 ms per loop (mean ± std. dev. of 7 runs, 10 loops each)\n",
      "\n",
      " Experimento 4: \n",
      "\n",
      "894 ms ± 17.1 ms per loop (mean ± std. dev. of 7 runs, 1 loop each)\n",
      "133 ms ± 4.96 ms per loop (mean ± std. dev. of 7 runs, 10 loops each)\n",
      "\n",
      " Experimento 5: \n",
      "\n",
      "1.42 s ± 207 ms per loop (mean ± std. dev. of 7 runs, 1 loop each)\n",
      "213 ms ± 1.76 ms per loop (mean ± std. dev. of 7 runs, 1 loop each)\n",
      "\n",
      " Experimento 6: \n",
      "\n",
      "1.85 s ± 38.8 ms per loop (mean ± std. dev. of 7 runs, 1 loop each)\n",
      "369 ms ± 6.93 ms per loop (mean ± std. dev. of 7 runs, 1 loop each)\n",
      "\n",
      " Experimento 7: \n",
      "\n",
      "2.47 s ± 24.5 ms per loop (mean ± std. dev. of 7 runs, 1 loop each)\n",
      "433 ms ± 6.72 ms per loop (mean ± std. dev. of 7 runs, 1 loop each)\n",
      "\n",
      " Experimento 8: \n",
      "\n",
      "3.35 s ± 139 ms per loop (mean ± std. dev. of 7 runs, 1 loop each)\n",
      "516 ms ± 5.18 ms per loop (mean ± std. dev. of 7 runs, 1 loop each)\n",
      "\n",
      " Experimento 9: \n",
      "\n",
      "4.19 s ± 165 ms per loop (mean ± std. dev. of 7 runs, 1 loop each)\n",
      "761 ms ± 27.8 ms per loop (mean ± std. dev. of 7 runs, 1 loop each)\n",
      "\n",
      " Experimento 10: \n",
      "\n"
     ]
    }
   ],
   "source": [
    "print(\"Experimento 1: \\n\")\n",
    "naive1 = %timeit -o Hausdorff_python(X1,Y1)\n",
    "jitted1 = %timeit -o Hausdorff_numba(X1,Y1)\n",
    "result1 = \"{0} times faster \\n\".format(naive1.best/jitted1.best)\n",
    "\n",
    "print(\"\\n Experimento 2: \\n\")\n",
    "naive2 = %timeit -o Hausdorff_python(X2,Y2)\n",
    "jitted2 = %timeit -o Hausdorff_numba(X2,Y2)\n",
    "result2 = \"{0} times faster \\n\".format(naive2.best/jitted2.best)\n",
    "\n",
    "print(\"\\n Experimento 3: \\n\")\n",
    "naive3 = %timeit -o Hausdorff_python(X3,Y3)\n",
    "jitted3 = %timeit -o Hausdorff_numba(X3,Y3)\n",
    "result3 = \"{0} times faster \\n\".format(naive3.best/jitted3.best)\n",
    "\n",
    "print(\"\\n Experimento 4: \\n\")\n",
    "naive4 = %timeit -o Hausdorff_python(X4,Y4)\n",
    "jitted4 = %timeit -o Hausdorff_numba(X4,Y4)\n",
    "result4 = \"{0} times faster \\n\".format(naive4.best/jitted4.best)\n",
    "\n",
    "print(\"\\n Experimento 5: \\n\")\n",
    "naive5 = %timeit -o Hausdorff_python(X5,Y5)\n",
    "jitted5 = %timeit -o Hausdorff_numba(X5,Y5)\n",
    "result5 = \"{0} times faster \\n\".format(naive5.best/jitted5.best)\n",
    "\n",
    "print(\"\\n Experimento 6: \\n\")\n",
    "naive6 = %timeit -o Hausdorff_python(X6,Y6)\n",
    "jitted6 = %timeit -o Hausdorff_numba(X6,Y6)\n",
    "result6 = \"{0} times faster \\n\".format(naive6.best/jitted6.best)\n",
    "\n",
    "print(\"\\n Experimento 7: \\n\")\n",
    "naive7 = %timeit -o Hausdorff_python(X7,Y7)\n",
    "jitted7 = %timeit -o Hausdorff_numba(X7,Y7)\n",
    "result7 = \"{0} times faster \\n\".format(naive7.best/jitted7.best)\n",
    "\n",
    "print(\"\\n Experimento 8: \\n\")\n",
    "naive8 = %timeit -o Hausdorff_python(X8,Y8)\n",
    "jitted8 = %timeit -o Hausdorff_numba(X8,Y8)\n",
    "result8 = \"{0} times faster \\n\".format(naive8.best/jitted8.best)\n",
    "\n",
    "print(\"\\n Experimento 9: \\n\")\n",
    "naive9 = %timeit -o Hausdorff_python(X9,Y9)\n",
    "jitted9 = %timeit -o Hausdorff_numba(X9,Y9)\n",
    "result9 = \"{0} times faster \\n\".format(naive9.best/jitted9.best)\n",
    "\n",
    "print(\"\\n Experimento 10: \\n\")\n",
    "naive10 = %timeit -o Hausdorff_python(X10,Y10)\n",
    "jitted10 = %timeit -o Hausdorff_numba(X10,Y10)\n",
    "result10 = \"{0} times faster \\n\".format(naive10.best/jitted10.best)\n",
    "\n",
    "sub_experimento_1 = [naive1,jitted1,result1]\n",
    "sub_experimento_2 = [naive2,jitted2,result2]\n",
    "sub_experimento_3 = [naive3,jitted3,result3]\n",
    "sub_experimento_4 = [naive4,jitted4,result4]\n",
    "sub_experimento_5 = [naive5,jitted5,result5]\n",
    "sub_experimento_6 = [naive6,jitted6,result6]\n",
    "sub_experimento_7 = [naive7,jitted7,result7]\n",
    "sub_experimento_8 = [naive8,jitted8,result8]\n",
    "sub_experimento_9 = [naive9,jitted9,result9]\n",
    "sub_experimento_10 = [naive10,jitted10,result10]"
   ]
  },
  {
   "cell_type": "code",
   "execution_count": null,
   "metadata": {},
   "outputs": [],
   "source": [
    "data = [[str(round(sub_experimento_1[0].best*1e3))+(\" milliseconds\"),str(round(sub_experimento_1[1].best*1e3))+(\" milliseconds\"),sub_experimento_1[2]],\n",
    "        [str(round(sub_experimento_2[0].best*1e3))+(\" milliseconds\"),str(round(sub_experimento_2[1].best*1e3))+(\" milliseconds\"),sub_experimento_2[2]],\n",
    "        [str(round(sub_experimento_3[0].best*1e3))+(\" milliseconds\"),str(round(sub_experimento_3[1].best*1e3))+(\" milliseconds\"),sub_experimento_3[2]],\n",
    "        [str(round(sub_experimento_4[0].best*1e3))+(\" milliseconds\"),str(round(sub_experimento_4[1].best*1e3))+(\" milliseconds\"),sub_experimento_4[2]],\n",
    "        [str(round(sub_experimento_5[0].best*1e3))+(\" milliseconds\"),str(round(sub_experimento_5[1].best*1e3))+(\" milliseconds\"),sub_experimento_5[2]],\n",
    "        [str(round(sub_experimento_6[0].best*1e3))+(\" milliseconds\"),str(round(sub_experimento_6[1].best*1e3))+(\" milliseconds\"),sub_experimento_6[2]],\n",
    "        [str(round(sub_experimento_7[0].best*1e3))+(\" milliseconds\"),str(round(sub_experimento_7[1].best*1e3))+(\" milliseconds\"),sub_experimento_7[2]],\n",
    "        [str(round(sub_experimento_8[0].best*1e3))+(\" milliseconds\"),str(round(sub_experimento_8[1].best*1e3))+(\" milliseconds\"),sub_experimento_8[2]],\n",
    "        [str(round(sub_experimento_9[0].best*1e3))+(\" milliseconds\"),str(round(sub_experimento_9[1].best*1e3))+(\" milliseconds\"),sub_experimento_9[2]],\n",
    "        [str(round(sub_experimento_10[0].best*1e3))+(\" milliseconds\"),str(round(sub_experimento_10[1].best*1e3))+(\" milliseconds\"),sub_experimento_10[2]]]\n",
    "HTML(tabulate(data, headers= ['mejor tiempo python', 'mejor tiempo numba', 'veces mas rapido entre python y numba '], floatfmt='.3e', tablefmt='html'))"
   ]
  },
  {
   "cell_type": "markdown",
   "metadata": {},
   "source": [
    "Podemos observar claramente que a medida que aumenta el tamaño de las filas en cada experimento, ambos algoritmos van en crecimiento en sus tiempos, aunque claramente la función con _numba_ siempre le gana por mucho a _python_ (es aproximadamente 6 veces mas rapido la función con numbda que con python), tomando como supuesto que se comparan los mejores tiempos de cada algoritmo. Para apreciarlo mejor, haremos un gráfico del tamaño de filas vs los tiempos de cada algoritmo:"
   ]
  },
  {
   "cell_type": "code",
   "execution_count": null,
   "metadata": {},
   "outputs": [],
   "source": [
    "filas = list(range(100,1100,100))\n",
    "exp_python = [sub_experimento_1[0].best*1e3,\n",
    "              sub_experimento_2[0].best*1e3,\n",
    "              sub_experimento_3[0].best*1e3,\n",
    "              sub_experimento_4[0].best*1e3,\n",
    "              sub_experimento_5[0].best*1e3,\n",
    "              sub_experimento_6[0].best*1e3,\n",
    "              sub_experimento_7[0].best*1e3,\n",
    "              sub_experimento_8[0].best*1e3,\n",
    "              sub_experimento_9[0].best*1e3,\n",
    "              sub_experimento_10[0].best*1e3]\n",
    "\n",
    "exp_numba = [sub_experimento_1[1].best*1e3,\n",
    "              sub_experimento_2[1].best*1e3,\n",
    "              sub_experimento_3[1].best*1e3,\n",
    "              sub_experimento_4[1].best*1e3,\n",
    "              sub_experimento_5[1].best*1e3,\n",
    "              sub_experimento_6[1].best*1e3,\n",
    "              sub_experimento_7[1].best*1e3,\n",
    "              sub_experimento_8[1].best*1e3,\n",
    "              sub_experimento_9[1].best*1e3,\n",
    "              sub_experimento_10[1].best*1e3]\n",
    "\n",
    "plt.figure(figsize=(20,10))\n",
    "plt.plot(filas, exp_python, '--bo', linewidth = 2, label = 'Tiempos python')\n",
    "plt.plot(filas, exp_numba,'--go', linewidth = 2, label = 'tiempos numba')\n",
    "plt.legend(loc = 2,prop={'size':24})\n",
    "plt.xlabel(\"filas\", fontsize = 24)\n",
    "plt.ylabel(\"t [ms]\", fontsize = 24)\n",
    "plt.grid(True)\n",
    "plt.grid(color = '0.5', linestyle = '--', linewidth = 1)\n",
    "plt.axis('tight')\n",
    "plt.title(\"filas vs tiempo\",fontsize = 28, verticalalignment = 'baseline', horizontalalignment = 'center')\n",
    "plt.show()"
   ]
  },
  {
   "cell_type": "markdown",
   "metadata": {},
   "source": [
    "Observamos claramente que los tiempos en python se disparan en comparación a los de numba, por lo que concluimos que la utilización de numba optimiza de forma considerable el tiempo de nuestro algoritmo."
   ]
  }
 ],
 "metadata": {
  "kernelspec": {
   "display_name": "Python 3",
   "language": "python",
   "name": "python3"
  },
  "language_info": {
   "codemirror_mode": {
    "name": "ipython",
    "version": 3
   },
   "file_extension": ".py",
   "mimetype": "text/x-python",
   "name": "python",
   "nbconvert_exporter": "python",
   "pygments_lexer": "ipython3",
   "version": "3.5.3"
  }
 },
 "nbformat": 4,
 "nbformat_minor": 2
}
