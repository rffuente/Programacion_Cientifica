{
 "cells": [
  {
   "cell_type": "markdown",
   "metadata": {},
   "source": [
    "<img src=https://upload.wikimedia.org/wikipedia/commons/thumb/4/47/Logo_UTFSM.png/250px-Logo_UTFSM.png style=\"float:right;height:90px\">\n",
    "<img src=http://carla2014.ccarla.org/img/logo_DI_UTFSM.jpg style=\"float:left;height:90px\">\n",
    "<center>\n",
    "    <h1> Scientific Programming in Python  </h1>\n",
    "    <h2> Actividad 1 </h2> \n",
    "</center>\n",
    "\n",
    "<center>    \n",
    "    Roberto Felipe Fuentes Zenteno - `roberto.fuentes@alumnos.usm.cl`.\n",
    "</center>"
   ]
  },
  {
   "cell_type": "markdown",
   "metadata": {},
   "source": [
    "## Actividad #1\n",
    "\n",
    "Desarrolle una extensión de `IPython` (llamada `2to3_ext.py`) implementando un `cell magic`, que reciba en su celda un código en `Python2`, lo transforme a código compatible con `Python3`, y finalmente lo ejecute en una instancia del `IPython3`, imprimiendo en la salida. \n",
    "\n",
    "La entrega consiste en la extensión (`2to3_ext.py`) + un notebook de ejemplo de su extensión ejecutada con el código de a continuación:\n",
    "\n",
    "```python\n",
    "a = float(raw_input(\"Ingrese a: \"))\n",
    "b = float(raw_input(\"Ingrese b: \"))\n",
    "c = float(raw_input(\"Ingrese c: \"))\n",
    "\n",
    "if a>(b+c) or b>(a+c) or c>(a+b):\n",
    "\tprint \"Ingrese un traingulo valido.\"\n",
    "elif a==b and b==c:\n",
    "\tprint \"Triangulo equilatero.\"\n",
    "elif a==b or b==c or a==c:\n",
    "\tprint \"Triangulo isoceles.\"\n",
    "else:\n",
    "\tprint \"Triangulo escaleno.\"\n",
    "```\n",
    "\n",
    "**Nota:** Consideraremos que las únicas diferencias entre `Python2` y `Python3` son los `print`."
   ]
  },
  {
   "cell_type": "markdown",
   "metadata": {},
   "source": [
    "## Desarrollo"
   ]
  },
  {
   "cell_type": "markdown",
   "metadata": {},
   "source": [
    "Cargamos el _magic_ pedido con el nombre **2to3_ext**. Posteriormente se carga lo que se encuentra en el archivo _2to3_ext.py_. Como supuesto se dan valores a \"a\",\"b\" y \"c\", ya que la instrucción _raw_input_ lanza error al ejeructarlo en el notebook."
   ]
  },
  {
   "cell_type": "code",
   "execution_count": 1,
   "metadata": {
    "collapsed": false,
    "scrolled": true
   },
   "outputs": [],
   "source": [
    "%load_ext 2to3_ext"
   ]
  },
  {
   "cell_type": "markdown",
   "metadata": {},
   "source": [
    "Posteriormente se ejecuta el código de python pedido:"
   ]
  },
  {
   "cell_type": "code",
   "execution_count": 2,
   "metadata": {
    "collapsed": false,
    "scrolled": false
   },
   "outputs": [
    {
     "name": "stdout",
     "output_type": "stream",
     "text": [
      "Triangulo escaleno.\n"
     ]
    }
   ],
   "source": [
    "%%python23\n",
    "a = 3\n",
    "b = 4\n",
    "c = 5\n",
    "\n",
    "if a>(b+c) or b>(a+c) or c>(a+b):\n",
    "    print \"Ingrese un traingulo valido.\"\n",
    "elif a==b and b==c:\n",
    "    print \"Triangulo equilatero.\"\n",
    "elif a==b or b==c or a==c:\n",
    "    print \"Triangulo isoceles.\"\n",
    "else:\n",
    "    print \"Triangulo escaleno.\""
   ]
  }
 ],
 "metadata": {
  "kernelspec": {
   "display_name": "Python 3",
   "language": "python",
   "name": "python3"
  },
  "language_info": {
   "codemirror_mode": {
    "name": "ipython",
    "version": 3
   },
   "file_extension": ".py",
   "mimetype": "text/x-python",
   "name": "python",
   "nbconvert_exporter": "python",
   "pygments_lexer": "ipython3",
   "version": "3.5.1"
  }
 },
 "nbformat": 4,
 "nbformat_minor": 2
}
